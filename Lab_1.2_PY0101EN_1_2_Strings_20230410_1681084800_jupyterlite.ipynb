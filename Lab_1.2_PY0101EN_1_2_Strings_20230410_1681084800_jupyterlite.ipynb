{
  "cells": [
    {
      "cell_type": "markdown",
      "metadata": {
        "id": "23440c8c-4af3-415d-9a75-b88b6c9a8a05"
      },
      "source": [
        "<center>\n",
        "    <img src=\"https://cf-courses-data.s3.us.cloud-object-storage.appdomain.cloud/IBMDeveloperSkillsNetwork-PY0101EN-SkillsNetwork/IDSNlogo.png\" width=\"300\" alt=\"cognitiveclass.ai logo\">\n",
        "</center>\n",
        "\n",
        "# String Operations\n",
        "\n",
        "Estimated time needed: **30** minutes.\n",
        "\n",
        "## Objectives\n",
        "\n",
        "After completing this lab you will be able to:\n",
        "\n",
        "*   Work with Strings\n",
        "*   Perform operations on String\n",
        "*   Manipulate Strings using indexing and escape sequences\n"
      ]
    },
    {
      "cell_type": "markdown",
      "metadata": {
        "id": "2e45c522-fb44-4af9-807b-173d0a774811"
      },
      "source": [
        "<h2>Table of Contents</h2>\n",
        "<div class=\"alert alert-block alert-info\" style=\"margin-top: 20px\">\n",
        "    <ul>\n",
        "        <li>\n",
        "            <a href=\"#What-are-Strings?\">What are Strings?</a>\n",
        "        </li>\n",
        "        <li>\n",
        "            <a href=\"#Indexing\">Indexing</a>\n",
        "            <ul>\n",
        "                <li><a href=\"#Negative-Indexing\">Negative Indexing</a></li>\n",
        "                <li><a href=\"#Slicing\">Slicing</a></li>\n",
        "                <li><a href=\"#Stride\">Stride</a></li>\n",
        "                <li><a href=\"#Concatenate-Strings\">Concatenate Strings</a></li>\n",
        "            </ul>\n",
        "        </li>\n",
        "        <li>\n",
        "            <a href=\"#Escape-Sequences\">Escape Sequences</a>\n",
        "        </li>\n",
        "        <li>\n",
        "            <a href=\"#String-Manipulation-Operations\">String Manipulation Operations</a>\n",
        "        </li>\n",
        "        <li>\n",
        "            <a href=\"#Quiz-on-Strings\">Quiz on Strings</a>\n",
        "        </li>\n",
        "    </ul>\n",
        "\n",
        "</div>\n",
        "\n",
        "<hr>\n"
      ]
    },
    {
      "cell_type": "markdown",
      "metadata": {
        "id": "875e1bfd-8ee0-4285-9e04-353cf419df4a"
      },
      "source": [
        "## What are Strings?\n"
      ]
    },
    {
      "cell_type": "markdown",
      "metadata": {
        "id": "56bfc323-0474-46a3-98af-0fa64dfb57de"
      },
      "source": [
        "The following example shows a string contained within 2 quotation marks:\n"
      ]
    },
    {
      "cell_type": "code",
      "metadata": {
        "colab": {
          "base_uri": "https://localhost:8080/",
          "height": 36
        },
        "id": "dfcfb978-2b41-451b-92ef-c4deb6160b20",
        "outputId": "016f5b95-02ad-4861-9119-446d1978556d"
      },
      "outputs": [
        {
          "output_type": "execute_result",
          "data": {
            "text/plain": [
              "'Michael Jackson'"
            ],
            "application/vnd.google.colaboratory.intrinsic+json": {
              "type": "string"
            }
          },
          "metadata": {},
          "execution_count": 1
        }
      ],
      "source": [
        "# Use quotation marks for defining string\n",
        "\n",
        "\"Michael Jackson\""
      ],
      "execution_count": 1
    },
    {
      "cell_type": "markdown",
      "metadata": {
        "id": "60734158-9cfa-48cd-a72f-90b1a3ed99de"
      },
      "source": [
        "We can also use single quotation marks:\n"
      ]
    },
    {
      "cell_type": "code",
      "metadata": {
        "colab": {
          "base_uri": "https://localhost:8080/",
          "height": 36
        },
        "id": "c964460d-4ac4-4709-9342-dfcc36f5ee84",
        "outputId": "01806661-90a0-47c2-e58b-87d4ee5aec7c"
      },
      "outputs": [
        {
          "output_type": "execute_result",
          "data": {
            "text/plain": [
              "'Michael Jackson'"
            ],
            "application/vnd.google.colaboratory.intrinsic+json": {
              "type": "string"
            }
          },
          "metadata": {},
          "execution_count": 2
        }
      ],
      "source": [
        "# Use single quotation marks for defining string\n",
        "\n",
        "'Michael Jackson'"
      ],
      "execution_count": 2
    },
    {
      "cell_type": "markdown",
      "metadata": {
        "id": "c37e97ba-b558-4e3e-9ff2-bcc887a3f7ab"
      },
      "source": [
        "A string can be a combination of spaces and digits:\n"
      ]
    },
    {
      "cell_type": "code",
      "metadata": {
        "colab": {
          "base_uri": "https://localhost:8080/",
          "height": 36
        },
        "id": "8d1e0c01-fb4a-447d-841e-1adaeae33ca3",
        "outputId": "635e6f41-d7e6-413f-8498-b2a979807f06"
      },
      "outputs": [
        {
          "output_type": "execute_result",
          "data": {
            "text/plain": [
              "'1 2 3 4 5 6 '"
            ],
            "application/vnd.google.colaboratory.intrinsic+json": {
              "type": "string"
            }
          },
          "metadata": {},
          "execution_count": 3
        }
      ],
      "source": [
        "# Digitals and spaces in string\n",
        "\n",
        "'1 2 3 4 5 6 '"
      ],
      "execution_count": 3
    },
    {
      "cell_type": "markdown",
      "metadata": {
        "id": "a8d35c33-c038-4254-b668-0c4d7def07ef"
      },
      "source": [
        "A string can also be a combination of special characters :\n"
      ]
    },
    {
      "cell_type": "code",
      "metadata": {
        "colab": {
          "base_uri": "https://localhost:8080/",
          "height": 36
        },
        "id": "5743bef6-18df-4d89-a7cc-d41804d0cbd4",
        "outputId": "af5452a0-3605-40a0-8132-2f4daa2a35fb"
      },
      "outputs": [
        {
          "output_type": "execute_result",
          "data": {
            "text/plain": [
              "'@#2_#]&*^%$'"
            ],
            "application/vnd.google.colaboratory.intrinsic+json": {
              "type": "string"
            }
          },
          "metadata": {},
          "execution_count": 4
        }
      ],
      "source": [
        "# Special characters in string\n",
        "\n",
        "'@#2_#]&*^%$'"
      ],
      "execution_count": 4
    },
    {
      "cell_type": "markdown",
      "metadata": {
        "id": "3126d126-59ad-4f13-8921-777e16243d48"
      },
      "source": [
        "We can print our string using the print statement:\n"
      ]
    },
    {
      "cell_type": "code",
      "metadata": {
        "colab": {
          "base_uri": "https://localhost:8080/"
        },
        "id": "2f96a631-ae69-4265-954c-0604d7efce2a",
        "outputId": "d4703495-a1df-4e38-8dd9-d36c4967c560"
      },
      "outputs": [
        {
          "output_type": "stream",
          "name": "stdout",
          "text": [
            "hello!\n"
          ]
        }
      ],
      "source": [
        "# Print the string\n",
        "\n",
        "print(\"hello!\")"
      ],
      "execution_count": 5
    },
    {
      "cell_type": "markdown",
      "metadata": {
        "id": "e571d35b-8e2c-4803-810d-1b82f8b2d9e9"
      },
      "source": [
        "We can bind or assign a string to another variable:\n"
      ]
    },
    {
      "cell_type": "code",
      "metadata": {
        "colab": {
          "base_uri": "https://localhost:8080/",
          "height": 36
        },
        "id": "89931889-7ad0-470d-9dad-c000513c9beb",
        "outputId": "fd1c95a5-b5ee-43f9-cdfd-4407e102f409"
      },
      "outputs": [
        {
          "output_type": "execute_result",
          "data": {
            "text/plain": [
              "'Michael Jackson'"
            ],
            "application/vnd.google.colaboratory.intrinsic+json": {
              "type": "string"
            }
          },
          "metadata": {},
          "execution_count": 6
        }
      ],
      "source": [
        "# Assign string to variable\n",
        "\n",
        "name = \"Michael Jackson\"\n",
        "name"
      ],
      "execution_count": 6
    },
    {
      "cell_type": "markdown",
      "metadata": {
        "id": "aa5bdddc-36c4-493a-97ab-b779a6ec7978"
      },
      "source": [
        "<hr>\n"
      ]
    },
    {
      "cell_type": "markdown",
      "metadata": {
        "id": "0faa4a21-978f-4484-b07e-3f0bc3d17407"
      },
      "source": [
        "## Indexing\n"
      ]
    },
    {
      "cell_type": "markdown",
      "metadata": {
        "id": "2de3fb42-f544-4fb2-8323-da6102808574"
      },
      "source": [
        "It is helpful to think of a string as an ordered sequence. Each element in the sequence can be accessed using an index represented by the array of numbers:\n"
      ]
    },
    {
      "cell_type": "markdown",
      "metadata": {
        "id": "3d9560d9-12ac-4417-ac04-c6568b7076ce"
      },
      "source": [
        "<img src=\"https://cf-courses-data.s3.us.cloud-object-storage.appdomain.cloud/IBMDeveloperSkillsNetwork-PY0101EN-SkillsNetwork/labs/Module%201/images/StringsIndex.png\" width=\"600\" align=\"center\">\n"
      ]
    },
    {
      "cell_type": "markdown",
      "metadata": {
        "id": "85bc562a-05a5-4ec4-a981-4b2029ea4d34"
      },
      "source": [
        "The first index can be accessed as follows:\n"
      ]
    },
    {
      "cell_type": "markdown",
      "metadata": {
        "id": "7735d50e-d933-4829-85e8-dccbdb748adf"
      },
      "source": [
        "<hr/>\n",
        "<div class=\"alert alert-success alertsuccess\" style=\"margin-top: 20px\">\n",
        "[Tip]: Because indexing starts at 0, it means the first index is on the index 0.\n",
        "</div>\n",
        "<hr/>\n"
      ]
    },
    {
      "cell_type": "code",
      "metadata": {
        "colab": {
          "base_uri": "https://localhost:8080/"
        },
        "id": "e66150eb-18bc-4a4f-b886-872ed02bfd30",
        "outputId": "66cb1a06-4ff0-4c4e-e28f-0497325ccd22"
      },
      "outputs": [
        {
          "output_type": "stream",
          "name": "stdout",
          "text": [
            "M\n"
          ]
        }
      ],
      "source": [
        "# Print the first element in the string\n",
        "\n",
        "print(name[0])"
      ],
      "execution_count": 7
    },
    {
      "cell_type": "markdown",
      "metadata": {
        "id": "953b1bd8-6d66-499e-899d-434bf1cc1cde"
      },
      "source": [
        "We can access index 6:\n"
      ]
    },
    {
      "cell_type": "code",
      "metadata": {
        "colab": {
          "base_uri": "https://localhost:8080/"
        },
        "id": "cd17a470-08b3-44b6-918d-8f6f6bdf0f16",
        "outputId": "f6b8ae7f-2332-4de7-87ef-3acd018c8e21"
      },
      "outputs": [
        {
          "output_type": "stream",
          "name": "stdout",
          "text": [
            "l\n"
          ]
        }
      ],
      "source": [
        "# Print the element on index 6 in the string\n",
        "\n",
        "print(name[6])"
      ],
      "execution_count": 8
    },
    {
      "cell_type": "markdown",
      "metadata": {
        "id": "de4049bb-0768-45a7-981e-9767f74a006c"
      },
      "source": [
        "Moreover, we can access the 13th index:\n"
      ]
    },
    {
      "cell_type": "code",
      "metadata": {
        "colab": {
          "base_uri": "https://localhost:8080/"
        },
        "id": "47ac3ad8-308d-4a20-9b08-f72340ababf0",
        "outputId": "e01b224a-d5f4-459e-f337-f38c9c8e8349"
      },
      "outputs": [
        {
          "output_type": "stream",
          "name": "stdout",
          "text": [
            "o\n"
          ]
        }
      ],
      "source": [
        "# Print the element on the 13th index in the string\n",
        "\n",
        "print(name[13])"
      ],
      "execution_count": 9
    },
    {
      "cell_type": "markdown",
      "metadata": {
        "id": "c3a1064e-fb8d-49fc-87da-b460631d4446"
      },
      "source": [
        "### Negative Indexing\n"
      ]
    },
    {
      "cell_type": "markdown",
      "metadata": {
        "id": "ec4257f0-dea4-4a8b-95b1-d13b09d9b619"
      },
      "source": [
        "We can also use negative indexing with strings:\n"
      ]
    },
    {
      "cell_type": "markdown",
      "metadata": {
        "id": "ddab66c3-5a98-4957-8b9b-687a4f807aa1"
      },
      "source": [
        "<img src=\"https://cf-courses-data.s3.us.cloud-object-storage.appdomain.cloud/IBMDeveloperSkillsNetwork-PY0101EN-SkillsNetwork/labs/Module%201/images/StringsNeg.png\" width=\"600\" align=\"center\">\n"
      ]
    },
    {
      "cell_type": "markdown",
      "metadata": {
        "id": "512807b7-28ba-4290-b1c5-3df7f2435a85"
      },
      "source": [
        "Negative index can help us to count the element from the end of the string.\n"
      ]
    },
    {
      "cell_type": "markdown",
      "metadata": {
        "id": "504c99d3-21b6-48fa-beb0-b5b28ff2fe78"
      },
      "source": [
        "The last element is given by the index -1:\n"
      ]
    },
    {
      "cell_type": "code",
      "metadata": {
        "colab": {
          "base_uri": "https://localhost:8080/"
        },
        "id": "90f8a114-e950-49ac-a639-3798380771b5",
        "outputId": "281f6412-01c3-4682-ba6d-4874746fb2c9"
      },
      "outputs": [
        {
          "output_type": "stream",
          "name": "stdout",
          "text": [
            "n\n"
          ]
        }
      ],
      "source": [
        "# Print the last element in the string\n",
        "\n",
        "print(name[-1])"
      ],
      "execution_count": 10
    },
    {
      "cell_type": "markdown",
      "metadata": {
        "id": "27b20f21-9745-4f08-a78a-d2d11f7d5741"
      },
      "source": [
        "The first element can be obtained by  index -15:\n"
      ]
    },
    {
      "cell_type": "code",
      "metadata": {
        "colab": {
          "base_uri": "https://localhost:8080/"
        },
        "id": "8a214f92-0a61-4e75-a881-8e2600b831a8",
        "outputId": "55855fef-37a0-4b0c-ca27-bba13bfa714f"
      },
      "outputs": [
        {
          "output_type": "stream",
          "name": "stdout",
          "text": [
            "M\n"
          ]
        }
      ],
      "source": [
        "# Print the first element in the string\n",
        "\n",
        "print(name[-15])"
      ],
      "execution_count": 11
    },
    {
      "cell_type": "markdown",
      "metadata": {
        "id": "40089130-b41b-49a0-aac5-9ad643836e60"
      },
      "source": [
        "We can find the number of characters in a string by using <code>len</code>, short for length:\n"
      ]
    },
    {
      "cell_type": "code",
      "metadata": {
        "colab": {
          "base_uri": "https://localhost:8080/"
        },
        "id": "b007c2fc-4203-4bca-9925-ca7c55673178",
        "outputId": "931321cc-ce58-434d-8d5a-3a8ea95d79b8"
      },
      "outputs": [
        {
          "output_type": "execute_result",
          "data": {
            "text/plain": [
              "15"
            ]
          },
          "metadata": {},
          "execution_count": 12
        }
      ],
      "source": [
        "# Find the length of string\n",
        "\n",
        "len(\"Michael Jackson\")"
      ],
      "execution_count": 12
    },
    {
      "cell_type": "markdown",
      "metadata": {
        "id": "fec058c6-ed1b-4d47-8f7a-ddac789132a4"
      },
      "source": [
        "### Slicing\n"
      ]
    },
    {
      "cell_type": "markdown",
      "metadata": {
        "id": "cd8127f6-438e-4ca0-9e3c-943a58fe085d"
      },
      "source": [
        "We can obtain multiple characters from a string using slicing, we can obtain the 0 to 4th and 8th to the 12th element:\n"
      ]
    },
    {
      "cell_type": "markdown",
      "metadata": {
        "id": "2010cfd0-cfec-4646-b1c5-d3592985f3b1"
      },
      "source": [
        "<img src=\"https://cf-courses-data.s3.us.cloud-object-storage.appdomain.cloud/IBMDeveloperSkillsNetwork-PY0101EN-SkillsNetwork/labs/Module%201/images/StringsSlice.png\" width=\"600\" align=\"center\">\n"
      ]
    },
    {
      "cell_type": "markdown",
      "metadata": {
        "id": "5f0e6f61-ff8c-4295-a2a5-c91af83faa59"
      },
      "source": [
        "<hr/>\n",
        "<div class=\"alert alert-success alertsuccess\" style=\"margin-top: 20px\">\n",
        "[Tip]: When taking the slice, the first number means the index (start at 0), and the second number means the length from the index to the last element you want (start at 1)\n",
        "</div>\n",
        "<hr/>\n"
      ]
    },
    {
      "cell_type": "code",
      "metadata": {
        "colab": {
          "base_uri": "https://localhost:8080/",
          "height": 36
        },
        "id": "29192e6e-50d0-4e92-934a-34164f5b98f8",
        "outputId": "3fccc8f6-b37c-4d4e-a656-cf0ec0328812"
      },
      "outputs": [
        {
          "output_type": "execute_result",
          "data": {
            "text/plain": [
              "'Mich'"
            ],
            "application/vnd.google.colaboratory.intrinsic+json": {
              "type": "string"
            }
          },
          "metadata": {},
          "execution_count": 13
        }
      ],
      "source": [
        "# Take the slice on variable name with only index 0 to index 3\n",
        "\n",
        "name[0:4]"
      ],
      "execution_count": 13
    },
    {
      "cell_type": "code",
      "metadata": {
        "colab": {
          "base_uri": "https://localhost:8080/",
          "height": 36
        },
        "id": "4ba99e91-e383-445b-a227-eba1e9aba649",
        "outputId": "514cf170-9378-483e-ccb5-9bfb646a9713"
      },
      "outputs": [
        {
          "output_type": "execute_result",
          "data": {
            "text/plain": [
              "'Jack'"
            ],
            "application/vnd.google.colaboratory.intrinsic+json": {
              "type": "string"
            }
          },
          "metadata": {},
          "execution_count": 14
        }
      ],
      "source": [
        "# Take the slice on variable name with only index 8 to index 11\n",
        "\n",
        "name[8:12]"
      ],
      "execution_count": 14
    },
    {
      "cell_type": "markdown",
      "metadata": {
        "id": "20bbc2e4-07dc-469b-9a66-fada1b2918c6"
      },
      "source": [
        "### Stride\n"
      ]
    },
    {
      "cell_type": "markdown",
      "metadata": {
        "id": "61453ade-128e-4b06-a1ae-58e45cf4a09f"
      },
      "source": [
        "We can also input a stride value as follows, with the '2' indicating that we are selecting every second variable:\n"
      ]
    },
    {
      "cell_type": "markdown",
      "metadata": {
        "id": "9bef08bb-fd31-4174-94ab-25239f900e0a"
      },
      "source": [
        "<img src=\"https://cf-courses-data.s3.us.cloud-object-storage.appdomain.cloud/IBMDeveloperSkillsNetwork-PY0101EN-SkillsNetwork/labs/Module%201/images/StringsStride.png\" width=\"600\" align=\"center\">\n"
      ]
    },
    {
      "cell_type": "code",
      "metadata": {
        "colab": {
          "base_uri": "https://localhost:8080/",
          "height": 36
        },
        "id": "387401a4-1ef6-43d6-827d-4720fd322132",
        "outputId": "0ab0d269-c84f-407c-b24c-84a81d2bfc92"
      },
      "outputs": [
        {
          "output_type": "execute_result",
          "data": {
            "text/plain": [
              "'McalJcsn'"
            ],
            "application/vnd.google.colaboratory.intrinsic+json": {
              "type": "string"
            }
          },
          "metadata": {},
          "execution_count": 15
        }
      ],
      "source": [
        "# Get every second element. The elments on index 1, 3, 5 ...\n",
        "\n",
        "name[::2]"
      ],
      "execution_count": 15
    },
    {
      "cell_type": "markdown",
      "metadata": {
        "id": "f44ce903-6350-45cb-be3c-2bb04f7020ff"
      },
      "source": [
        "We can also incorporate slicing  with the stride. In this case, we select the first five elements and then use the stride:\n"
      ]
    },
    {
      "cell_type": "code",
      "metadata": {
        "colab": {
          "base_uri": "https://localhost:8080/",
          "height": 36
        },
        "id": "03b67dba-c89b-43c7-aaf6-fe0a34f4260e",
        "outputId": "2fa23ca7-7dd8-4d77-f8d5-772fdd646db3"
      },
      "outputs": [
        {
          "output_type": "execute_result",
          "data": {
            "text/plain": [
              "'Mca'"
            ],
            "application/vnd.google.colaboratory.intrinsic+json": {
              "type": "string"
            }
          },
          "metadata": {},
          "execution_count": 16
        }
      ],
      "source": [
        "# Get every second element in the range from index 0 to index 4\n",
        "\n",
        "name[0:5:2]"
      ],
      "execution_count": 16
    },
    {
      "cell_type": "markdown",
      "metadata": {
        "id": "7b851205-640c-4d2e-9fb3-693579007c23"
      },
      "source": [
        "### Concatenate Strings\n"
      ]
    },
    {
      "cell_type": "markdown",
      "metadata": {
        "id": "c76fd206-64df-4b4e-b4ee-20971748d656"
      },
      "source": [
        "We can concatenate or combine strings by using the addition symbols, and the result is a new string that is a combination of both:\n"
      ]
    },
    {
      "cell_type": "code",
      "metadata": {
        "colab": {
          "base_uri": "https://localhost:8080/",
          "height": 36
        },
        "id": "165e78dd-22cd-4640-bed3-c729a29f0fbc",
        "outputId": "f9dffcf7-10e1-4cc4-a349-21d5eb298c6a"
      },
      "outputs": [
        {
          "output_type": "execute_result",
          "data": {
            "text/plain": [
              "'Michael Jacksonis the best'"
            ],
            "application/vnd.google.colaboratory.intrinsic+json": {
              "type": "string"
            }
          },
          "metadata": {},
          "execution_count": 17
        }
      ],
      "source": [
        "# Concatenate two strings\n",
        "\n",
        "statement = name + \"is the best\"\n",
        "statement"
      ],
      "execution_count": 17
    },
    {
      "cell_type": "markdown",
      "metadata": {
        "id": "39cd98a2-424b-413a-8c3e-850c9b3d709b"
      },
      "source": [
        "To replicate values of a string we simply multiply the string by the number of times we would like to replicate it. In this case, the number is three. The result is a new string, and this new string consists of three copies of the original string:\n"
      ]
    },
    {
      "cell_type": "code",
      "metadata": {
        "colab": {
          "base_uri": "https://localhost:8080/",
          "height": 36
        },
        "id": "d6a07b46-c8bd-42d4-b43b-69f192f7a3ba",
        "outputId": "83ab00d6-0526-4bc2-daf5-fc0cf940f2f8"
      },
      "outputs": [
        {
          "output_type": "execute_result",
          "data": {
            "text/plain": [
              "'Michael JacksonMichael JacksonMichael Jackson'"
            ],
            "application/vnd.google.colaboratory.intrinsic+json": {
              "type": "string"
            }
          },
          "metadata": {},
          "execution_count": 18
        }
      ],
      "source": [
        "# Print the string for 3 times\n",
        "\n",
        "3 * \"Michael Jackson\""
      ],
      "execution_count": 18
    },
    {
      "cell_type": "markdown",
      "metadata": {
        "id": "5db68bc5-a86f-4676-987b-e5b818238901"
      },
      "source": [
        "You can create a new string by setting it to the original variable. Concatenated  with a new string, the result is a new string that changes from Michael Jackson to “Michael Jackson is the best\".\n"
      ]
    },
    {
      "cell_type": "code",
      "metadata": {
        "colab": {
          "base_uri": "https://localhost:8080/",
          "height": 36
        },
        "id": "0778185c-384b-4253-ae86-2907fe43e5aa",
        "outputId": "e8208505-0c3c-455a-df6d-c49aaa101f8d"
      },
      "outputs": [
        {
          "output_type": "execute_result",
          "data": {
            "text/plain": [
              "'Michael Jackson is the best'"
            ],
            "application/vnd.google.colaboratory.intrinsic+json": {
              "type": "string"
            }
          },
          "metadata": {},
          "execution_count": 19
        }
      ],
      "source": [
        "# Concatenate strings\n",
        "\n",
        "name = \"Michael Jackson\"\n",
        "name = name + \" is the best\"\n",
        "name"
      ],
      "execution_count": 19
    },
    {
      "cell_type": "markdown",
      "metadata": {
        "id": "4bad07a5-862d-4e69-a22c-268590f9901d"
      },
      "source": [
        "<hr>\n"
      ]
    },
    {
      "cell_type": "markdown",
      "metadata": {
        "id": "0175a53a-ce71-46d1-9c01-dfc3e780db85"
      },
      "source": [
        "## Escape Sequences\n"
      ]
    },
    {
      "cell_type": "markdown",
      "metadata": {
        "id": "b2fd471f-9417-41d0-8d2d-4fd3261c2a77"
      },
      "source": [
        "Back slashes represent the beginning  of escape sequences. Escape sequences represent strings that may be difficult to input. For example, back slash \"n\" represents a new line. The output is given by a new line after the back slash \"n\" is encountered:\n"
      ]
    },
    {
      "cell_type": "code",
      "metadata": {
        "colab": {
          "base_uri": "https://localhost:8080/"
        },
        "id": "514645f7-d05c-4f02-8206-4bb752a1b354",
        "outputId": "86604e57-3ec1-4eaa-b689-b0bd8dd950a4"
      },
      "outputs": [
        {
          "output_type": "stream",
          "name": "stdout",
          "text": [
            " Michael Jackson \n",
            " is the best\n"
          ]
        }
      ],
      "source": [
        "# New line escape sequence\n",
        "\n",
        "print(\" Michael Jackson \\n is the best\" )"
      ],
      "execution_count": 20
    },
    {
      "cell_type": "markdown",
      "metadata": {
        "id": "b97b2492-4e42-422b-860e-bfa2340345f7"
      },
      "source": [
        "Similarly, back slash  \"t\" represents a tab:\n"
      ]
    },
    {
      "cell_type": "code",
      "metadata": {
        "colab": {
          "base_uri": "https://localhost:8080/"
        },
        "id": "bcd406b1-124b-463a-9420-89a7cb8727c7",
        "outputId": "bbdf6d7b-587e-4a74-a354-8e85da7af00a"
      },
      "outputs": [
        {
          "output_type": "stream",
          "name": "stdout",
          "text": [
            " Michael Jackson \t is the best\n"
          ]
        }
      ],
      "source": [
        "# Tab escape sequence\n",
        "\n",
        "print(\" Michael Jackson \\t is the best\" )"
      ],
      "execution_count": 21
    },
    {
      "cell_type": "markdown",
      "metadata": {
        "id": "a710c81c-c289-4ac1-8337-14bfd249d374"
      },
      "source": [
        "If you want to place a back slash in your string, use a double back slash:\n"
      ]
    },
    {
      "cell_type": "code",
      "metadata": {
        "colab": {
          "base_uri": "https://localhost:8080/"
        },
        "id": "55d2688a-76e9-438e-b208-0b42a960e13c",
        "outputId": "dc4aa3f7-d80f-4e81-ca22-9e3443dcee8a"
      },
      "outputs": [
        {
          "output_type": "stream",
          "name": "stdout",
          "text": [
            " Michael Jackson \\ is the best\n"
          ]
        }
      ],
      "source": [
        "# Include back slash in string\n",
        "\n",
        "print(\" Michael Jackson \\\\ is the best\" )"
      ],
      "execution_count": 22
    },
    {
      "cell_type": "markdown",
      "metadata": {
        "id": "650107c6-edad-4fde-8e2f-6e85e6ce045d"
      },
      "source": [
        "We can also place an \"r\" before the string to display the backslash:\n"
      ]
    },
    {
      "cell_type": "code",
      "metadata": {
        "colab": {
          "base_uri": "https://localhost:8080/"
        },
        "id": "2468a704-1a15-45b4-92d2-69e15ae58222",
        "outputId": "bca70c93-471a-4b77-e4ae-0fcbde556944"
      },
      "outputs": [
        {
          "output_type": "stream",
          "name": "stdout",
          "text": [
            " Michael Jackson \\ is the best\n"
          ]
        }
      ],
      "source": [
        "# r will tell python that string will be display as raw string\n",
        "\n",
        "print(r\" Michael Jackson \\ is the best\" )"
      ],
      "execution_count": 23
    },
    {
      "cell_type": "markdown",
      "metadata": {
        "id": "dd5517ce-1a05-4560-af6b-aef68f004042"
      },
      "source": [
        "<hr>\n"
      ]
    },
    {
      "cell_type": "markdown",
      "metadata": {
        "id": "17d87355-2ee1-42e0-bbc0-561bb7abdadc"
      },
      "source": [
        "## String Manipulation Operations\n"
      ]
    },
    {
      "cell_type": "markdown",
      "metadata": {
        "id": "4a43ef42-91db-4993-b0c0-c59e80f4023c"
      },
      "source": [
        "There are many string operation methods in Python that can be used to manipulate the data. We are going to use some basic string operations on the data.\n"
      ]
    },
    {
      "cell_type": "markdown",
      "metadata": {
        "id": "1b13b252-a365-4a06-bcd7-f8e602d1193d"
      },
      "source": [
        "Let's try with the method <code>upper</code>; this method converts lower case characters to upper case characters:\n"
      ]
    },
    {
      "cell_type": "code",
      "metadata": {
        "colab": {
          "base_uri": "https://localhost:8080/"
        },
        "id": "007df2a3-ce70-4f0e-b66f-a1f3b0a414bd",
        "outputId": "4695fec1-87ea-4a11-fb5f-fac8741a5669"
      },
      "outputs": [
        {
          "output_type": "stream",
          "name": "stdout",
          "text": [
            "before upper: Thriller is the sixth studio album\n",
            "After upper: THRILLER IS THE SIXTH STUDIO ALBUM\n"
          ]
        }
      ],
      "source": [
        "# Convert all the characters in string to upper case\n",
        "\n",
        "a = \"Thriller is the sixth studio album\"\n",
        "print(\"before upper:\", a)\n",
        "b = a.upper()\n",
        "print(\"After upper:\", b)"
      ],
      "execution_count": 24
    },
    {
      "cell_type": "markdown",
      "metadata": {
        "id": "74525c5a-494c-47a1-b008-559e513651c4"
      },
      "source": [
        "The method <code>replace</code> replaces a segment of the string, i.e. a substring  with a new string. We input the part of the string we would like to change. The second argument is what we would like to exchange the segment with, and the result is a new string with the segment changed:\n"
      ]
    },
    {
      "cell_type": "code",
      "metadata": {
        "colab": {
          "base_uri": "https://localhost:8080/",
          "height": 36
        },
        "id": "c31f7542-eb30-491e-aaca-47ee600fd4c7",
        "outputId": "1ee35b4f-5a75-409f-a7f9-e6cec846cd33"
      },
      "outputs": [
        {
          "output_type": "execute_result",
          "data": {
            "text/plain": [
              "'Janet Jackson is the best'"
            ],
            "application/vnd.google.colaboratory.intrinsic+json": {
              "type": "string"
            }
          },
          "metadata": {},
          "execution_count": 25
        }
      ],
      "source": [
        "# Replace the old substring with the new target substring is the segment has been found in the string\n",
        "\n",
        "a = \"Michael Jackson is the best\"\n",
        "b = a.replace('Michael', 'Janet')\n",
        "b"
      ],
      "execution_count": 25
    },
    {
      "cell_type": "markdown",
      "metadata": {
        "id": "5b3acab5-d7e5-4b99-98f3-d2c158d92ef6"
      },
      "source": [
        "The method <code>find</code> finds a sub-string. The argument is the substring you would like to find, and the output is the first index of the sequence. We can find the sub-string <code>jack</code> or <code>el<code>.\n"
      ]
    },
    {
      "cell_type": "markdown",
      "metadata": {
        "id": "17e7d2d2-cb4d-48ba-957b-29d00ba53fdb"
      },
      "source": [
        "<img src=\"https://cf-courses-data.s3.us.cloud-object-storage.appdomain.cloud/IBMDeveloperSkillsNetwork-PY0101EN-SkillsNetwork/labs/Module%201/images/StringsFind.png\" width=\"600\" align=\"center\">\n"
      ]
    },
    {
      "cell_type": "code",
      "metadata": {
        "colab": {
          "base_uri": "https://localhost:8080/"
        },
        "id": "32c78d07-17c9-4412-8ea7-f90a707a027b",
        "outputId": "27363b97-a3f0-4471-ad7d-8846cd58aae6"
      },
      "outputs": [
        {
          "output_type": "execute_result",
          "data": {
            "text/plain": [
              "5"
            ]
          },
          "metadata": {},
          "execution_count": 26
        }
      ],
      "source": [
        "# Find the substring in the string. Only the index of the first elment of substring in string will be the output\n",
        "\n",
        "name = \"Michael Jackson\"\n",
        "name.find('el')"
      ],
      "execution_count": 26
    },
    {
      "cell_type": "code",
      "metadata": {
        "colab": {
          "base_uri": "https://localhost:8080/"
        },
        "id": "5e4f97eb-ea47-456b-bd68-80574e338501",
        "outputId": "7efb5bcf-3b83-4d4c-d046-bb3961709f70"
      },
      "outputs": [
        {
          "output_type": "execute_result",
          "data": {
            "text/plain": [
              "8"
            ]
          },
          "metadata": {},
          "execution_count": 27
        }
      ],
      "source": [
        "# Find the substring in the string.\n",
        "\n",
        "name.find('Jack')"
      ],
      "execution_count": 27
    },
    {
      "cell_type": "markdown",
      "metadata": {
        "id": "26d25451-e020-4288-b226-e55d15c2147f"
      },
      "source": [
        "If the  sub-string is not in the string then the output is a negative one. For example, the string 'Jasdfasdasdf' is not a substring:\n"
      ]
    },
    {
      "cell_type": "code",
      "metadata": {
        "colab": {
          "base_uri": "https://localhost:8080/"
        },
        "id": "0b320ecd-1a08-40d1-b8a5-e47915a529d7",
        "outputId": "ad6bd36c-bc60-4994-dc95-286787bc8ce8"
      },
      "outputs": [
        {
          "output_type": "execute_result",
          "data": {
            "text/plain": [
              "-1"
            ]
          },
          "metadata": {},
          "execution_count": 28
        }
      ],
      "source": [
        "# If cannot find the substring in the string\n",
        "\n",
        "name.find('Jasdfasdasdf')"
      ],
      "execution_count": 28
    },
    {
      "cell_type": "markdown",
      "metadata": {
        "id": "d70b949e-59f0-4a59-b8a8-3ca3d98cbe43"
      },
      "source": [
        "The method <code>Split</code> splits the string at the specified separator, and returns a list:\n"
      ]
    },
    {
      "cell_type": "code",
      "metadata": {
        "colab": {
          "base_uri": "https://localhost:8080/"
        },
        "id": "460ae0a6-8205-400b-9020-f45d117db542",
        "outputId": "cae258b2-b184-4912-d1de-f1acac236f46"
      },
      "outputs": [
        {
          "output_type": "execute_result",
          "data": {
            "text/plain": [
              "['Michael', 'Jackson']"
            ]
          },
          "metadata": {},
          "execution_count": 29
        }
      ],
      "source": [
        "#Split the substring into list\n",
        "name = \"Michael Jackson\"\n",
        "split_string = (name.split())\n",
        "split_string"
      ],
      "execution_count": 29
    },
    {
      "cell_type": "markdown",
      "metadata": {
        "id": "602b087b-e9f9-4932-b3a3-4bf741f2f394"
      },
      "source": [
        "<hr>\n"
      ]
    },
    {
      "cell_type": "markdown",
      "metadata": {
        "id": "5d081130-bb5b-42cb-8adb-308023e99c84"
      },
      "source": [
        "## RegEx\n"
      ]
    },
    {
      "cell_type": "markdown",
      "metadata": {
        "id": "bdb46a98-b8f6-4ec6-9c1f-788a37099444"
      },
      "source": [
        "In Python, RegEx (short for Regular Expression) is a tool for matching and handling strings.\n"
      ]
    },
    {
      "cell_type": "markdown",
      "metadata": {
        "id": "158f7415-d36d-47f9-9b73-eea685f4cd26"
      },
      "source": [
        "This RegEx module provides several functions for working with regular expressions, including <code>search, split, findall,</code> and <code>sub</code>.\n"
      ]
    },
    {
      "cell_type": "markdown",
      "metadata": {
        "id": "69ff121f-ef04-440b-80de-6391714d631e"
      },
      "source": [
        "Python provides a built-in module called <code>re</code>, which allows you to work with regular expressions.\n",
        "First, import the <code>re</code> module\n"
      ]
    },
    {
      "cell_type": "code",
      "metadata": {
        "id": "0d3b3149-71e1-420e-81c9-5842f949dc6e"
      },
      "outputs": [],
      "source": [
        "import re"
      ],
      "execution_count": 30
    },
    {
      "cell_type": "markdown",
      "metadata": {
        "id": "d52b6292-2cf1-4426-91ed-d286f218fb6d"
      },
      "source": [
        "The search() function searches for specified patterns within a string. Here is an example that explains how to use the search() function to search for the word \"Jackson\" in the string \"Michael Jackson is the best\".\n"
      ]
    },
    {
      "cell_type": "code",
      "metadata": {
        "colab": {
          "base_uri": "https://localhost:8080/"
        },
        "id": "2336a8d6-de80-4bbf-881a-65e9400b14b4",
        "outputId": "3523c992-adea-400b-a951-4d7b0ef288a5"
      },
      "outputs": [
        {
          "output_type": "stream",
          "name": "stdout",
          "text": [
            "Match found!\n"
          ]
        }
      ],
      "source": [
        "s1 = \"Michael Jackson is the best\"\n",
        "\n",
        "# Define the pattern to search for\n",
        "pattern = r\"Jackson\"\n",
        "\n",
        "# Use the search() function to search for the pattern in the string\n",
        "result = re.search(pattern, s1)\n",
        "\n",
        "# Check if a match was found\n",
        "if result:\n",
        "    print(\"Match found!\")\n",
        "else:\n",
        "    print(\"Match not found.\")\n"
      ],
      "execution_count": 31
    },
    {
      "cell_type": "markdown",
      "metadata": {
        "id": "bd51a57b-bac3-462d-94a5-c9545b82921c"
      },
      "source": [
        "Regular expressions (RegEx) are patterns used to match and manipulate strings of text. There are several special sequences in RegEx that can be used to match specific characters or patterns.\n",
        "\n",
        "| Special Sequence | Meaning                 | \tExample             |\n",
        "| -----------  | ----------------------- | ----------------------|\n",
        "| \\d|Matches any digit character (0-9)|\"123\" matches \"\\d\\d\\d\"|\n",
        "|\\D|Matches any non-digit character|\"hello\" matches \"\\D\\D\\D\\D\\D\"|\n",
        "|\\w|Matches any word character (a-z, A-Z, 0-9, and _)|\"hello_world\" matches \"\\w\\w\\w\\w\\w\\w\\w\\w\\w\"|\n",
        "|\\W|Matches any non-word character|\t\"@#$%\" matches \"\\W\\W\\W\\W\"|\n",
        "|\\s|Matches any whitespace character (space, tab, newline, etc.)|\"hello world\" matches \"\\w\\s\\w\\w\\w\\w\\w\"|\n",
        "|\\S|Matches any non-whitespace character|\"hello_world\" matches \"\\S\\S\\S\\S\\S\\S\\S\\S\\S\"|\n",
        "|\\b|Matches the boundary between a word character and a non-word character|\"cat\" matches \"\\bcat\\b\" in \"The cat sat on the mat\"|\n",
        "|\\B|Matches any position that is not a word boundary|\"cat\" matches \"\\Bcat\\B\" in \"category\" but not in \"The cat sat on the mat\"|\n"
      ]
    },
    {
      "cell_type": "markdown",
      "metadata": {
        "id": "9509a826-e796-4a4d-999d-7c31009a2799"
      },
      "source": [
        "Special Sequence Examples:\n",
        "\n",
        "A simple example of using the <code>\\d</code> special sequence in a regular expression pattern with Python code:\n"
      ]
    },
    {
      "cell_type": "code",
      "metadata": {
        "colab": {
          "base_uri": "https://localhost:8080/"
        },
        "id": "ce385053-90b6-4924-88ad-4539b154acc8",
        "outputId": "e5817e8b-0c1b-4a19-e02a-a6f7867b00dc"
      },
      "outputs": [
        {
          "output_type": "stream",
          "name": "stdout",
          "text": [
            "Phone number found: 1234567890\n"
          ]
        }
      ],
      "source": [
        "pattern = r\"\\d\\d\\d\\d\\d\\d\\d\\d\\d\\d\"  # Matches any ten consecutive digits\n",
        "text = \"My Phone number is 1234567890\"\n",
        "match = re.search(pattern, text)\n",
        "\n",
        "if match:\n",
        "    print(\"Phone number found:\", match.group())\n",
        "else:\n",
        "    print(\"No match\")"
      ],
      "execution_count": 32
    },
    {
      "cell_type": "markdown",
      "metadata": {
        "id": "b7da006b-50b0-4bfc-b810-e34ff0cb6fb6"
      },
      "source": [
        "The regular expression pattern is defined as r\"\\d\\d\\d\\d\\d\\d\\d\\d\\d\\d\", which uses the \\d special sequence to match any digit character (0-9), and the \\d sequence is repeated ten times to match ten consecutive digits\n"
      ]
    },
    {
      "cell_type": "markdown",
      "metadata": {
        "id": "9b5a275d-6e52-4ebf-87dd-fe10b822223f"
      },
      "source": [
        "A simple example of using the <code>\\W</code> special sequence in a regular expression pattern with Python code:\n"
      ]
    },
    {
      "cell_type": "code",
      "metadata": {
        "colab": {
          "base_uri": "https://localhost:8080/"
        },
        "id": "16f6a127-10e9-4a41-85e9-891c1df38357",
        "outputId": "eb75f729-ed31-4412-b4c7-bb440a80460f"
      },
      "outputs": [
        {
          "output_type": "stream",
          "name": "stdout",
          "text": [
            "Matches: [',', ' ', '!']\n"
          ]
        }
      ],
      "source": [
        "pattern = r\"\\W\"  # Matches any non-word character\n",
        "text = \"Hello, world!\"\n",
        "matches = re.findall(pattern, text)\n",
        "\n",
        "print(\"Matches:\", matches)"
      ],
      "execution_count": 33
    },
    {
      "cell_type": "markdown",
      "metadata": {
        "id": "5eb80d07-406a-48ab-bf44-4255d993dfb2"
      },
      "source": [
        "The regular expression pattern is defined as r\"\\W\", which uses the \\W special sequence to match any character that is not a word character (a-z, A-Z, 0-9, or _). The string we're searching for matches in is \"Hello, world!\".\n"
      ]
    },
    {
      "cell_type": "markdown",
      "metadata": {
        "id": "80598c49-0d03-4bf4-8399-c4463a5cf58b"
      },
      "source": [
        "The <code>findall()</code> function finds all occurrences of a specified pattern within a string.\n"
      ]
    },
    {
      "cell_type": "code",
      "metadata": {
        "colab": {
          "base_uri": "https://localhost:8080/"
        },
        "id": "df3d2937-b3cb-4d05-9478-27ba85e243d2",
        "outputId": "3aadaf42-1e5a-407e-ac62-624af091b4e4"
      },
      "outputs": [
        {
          "output_type": "stream",
          "name": "stdout",
          "text": [
            "['as', 'as']\n"
          ]
        }
      ],
      "source": [
        "s2 = \"Michael Jackson was a singer and known as the 'King of Pop'\"\n",
        "\n",
        "\n",
        "# Use the findall() function to find all occurrences of the \"as\" in the string\n",
        "result = re.findall(\"as\", s2)\n",
        "\n",
        "# Print out the list of matched words\n",
        "print(result)\n"
      ],
      "execution_count": 34
    },
    {
      "cell_type": "markdown",
      "metadata": {
        "id": "145b6768-43b8-4f6a-8d9a-2050510e3a3b"
      },
      "source": [
        "A regular expression's <code>split()</code> function splits a string into an array of substrings based on a specified pattern.\n"
      ]
    },
    {
      "cell_type": "code",
      "metadata": {
        "colab": {
          "base_uri": "https://localhost:8080/"
        },
        "id": "f056b114-6aee-4f81-9c5c-5c9f7b9d0c3f",
        "outputId": "aef5e591-b30a-4ac0-df05-00938275ea1f"
      },
      "outputs": [
        {
          "output_type": "stream",
          "name": "stdout",
          "text": [
            "['Michael', 'Jackson', 'was', 'a', 'singer', 'and', 'known', 'as', 'the', \"'King\", 'of', \"Pop'\"]\n"
          ]
        }
      ],
      "source": [
        "# Use the split function to split the string by the \"\\s\"\n",
        "split_array = re.split(\"\\s\", s2)\n",
        "\n",
        "# The split_array contains all the substrings, split by whitespace characters\n",
        "print(split_array)"
      ],
      "execution_count": 35
    },
    {
      "cell_type": "markdown",
      "metadata": {
        "id": "7534155a-aee2-4292-a138-f2d1653eac92"
      },
      "source": [
        "The <code>sub</code> function of a regular expression in Python is used to replace all occurrences of a pattern in a string with a specified replacement.\n"
      ]
    },
    {
      "cell_type": "code",
      "metadata": {
        "colab": {
          "base_uri": "https://localhost:8080/"
        },
        "id": "35f2c9bc-7176-4ee7-aaa3-e197088c5d67",
        "outputId": "003d13b2-02dd-40a4-8832-ef07df66624e"
      },
      "outputs": [
        {
          "output_type": "stream",
          "name": "stdout",
          "text": [
            "Michael Jackson was a singer and known as the 'legend'\n"
          ]
        }
      ],
      "source": [
        "# Define the regular expression pattern to search for\n",
        "pattern = r\"King of Pop\"\n",
        "\n",
        "# Define the replacement string\n",
        "replacement = \"legend\"\n",
        "\n",
        "# Use the sub function to replace the pattern with the replacement string\n",
        "new_string = re.sub(pattern, replacement, s2, flags=re.IGNORECASE)\n",
        "\n",
        "# The new_string contains the original string with the pattern replaced by the replacement string\n",
        "print(new_string)"
      ],
      "execution_count": 36
    },
    {
      "cell_type": "markdown",
      "metadata": {
        "id": "8184c3d3-00b3-462f-8dac-2f67b324fb64"
      },
      "source": [
        "<hr>\n"
      ]
    },
    {
      "cell_type": "markdown",
      "metadata": {
        "id": "578c9377-d9ec-4b87-9650-0fbd770e6da1"
      },
      "source": [
        "<h2 id=\"quiz\">Quiz on Strings</h2>\n"
      ]
    },
    {
      "cell_type": "markdown",
      "metadata": {
        "id": "0c6b91e7-1889-4e5c-bf99-3a135d671d1d"
      },
      "source": [
        "What is the value of the variable <code>a</code> after the following code is executed?\n"
      ]
    },
    {
      "cell_type": "code",
      "metadata": {
        "colab": {
          "base_uri": "https://localhost:8080/"
        },
        "id": "0cb4e69f-9b6c-4609-8bd3-770ee8fbc5dc",
        "outputId": "ae23e7a1-7681-454f-e066-497c11cc91db"
      },
      "outputs": [
        {
          "output_type": "stream",
          "name": "stdout",
          "text": [
            "1\n"
          ]
        }
      ],
      "source": [
        "# Write your code below and press Shift+Enter to execute\n",
        "\n",
        "a = \"1\"\n",
        "# my code\n",
        "a = \"1\"\n",
        "\n",
        "print(a)\n"
      ],
      "execution_count": 39
    },
    {
      "cell_type": "markdown",
      "metadata": {
        "id": "188dfca8-697a-41f9-bdb9-1806709c9bf8"
      },
      "source": [
        "<details><summary>Click here for the solution</summary>\n",
        "\n",
        "```python\n",
        "\"1\"\n",
        "\n",
        "```\n",
        "\n",
        "</details>\n"
      ]
    },
    {
      "cell_type": "markdown",
      "metadata": {
        "id": "c431d003-db1d-4990-8d74-a916e60911f2"
      },
      "source": [
        "What is the value of the variable <code>b</code> after the following code is executed?\n"
      ]
    },
    {
      "cell_type": "code",
      "metadata": {
        "colab": {
          "base_uri": "https://localhost:8080/"
        },
        "id": "0ede0c22-8781-4ccc-bff1-c78bb0df348d",
        "outputId": "da40e7ed-ee9d-450f-cc46-e7d6991579ec"
      },
      "outputs": [
        {
          "output_type": "stream",
          "name": "stdout",
          "text": [
            "2\n"
          ]
        }
      ],
      "source": [
        "# Write your code below and press Shift+Enter to execute\n",
        "\n",
        "b = \"2\"\n",
        "# my code\n",
        "b = \"2\"\n",
        "\n",
        "print(b)\n"
      ],
      "execution_count": 42
    },
    {
      "cell_type": "markdown",
      "metadata": {
        "id": "3691894f-bf12-4d90-b12c-81cd8ceba071"
      },
      "source": [
        "<details><summary>Click here for the solution</summary>\n",
        "\n",
        "```python\n",
        "\"2\"\n",
        "\n",
        "```\n",
        "\n",
        "</details>\n"
      ]
    },
    {
      "cell_type": "markdown",
      "metadata": {
        "id": "c3d3b0dd-d845-469d-ace5-aafd1e68a5f0"
      },
      "source": [
        "What is the value of the variable <code>c</code> after the following code is executed?\n"
      ]
    },
    {
      "cell_type": "code",
      "metadata": {
        "colab": {
          "base_uri": "https://localhost:8080/"
        },
        "id": "a9239192-36b4-4ef1-8b75-77afa5aa3c31",
        "outputId": "213d8c4b-af9d-4ddc-c204-9e76e0bb0ca5"
      },
      "outputs": [
        {
          "output_type": "stream",
          "name": "stdout",
          "text": [
            "12\n"
          ]
        }
      ],
      "source": [
        "# Write your code below and press Shift+Enter to execute\n",
        "\n",
        "c = a + b\n",
        "# my code\n",
        "c = a + b\n",
        "\n",
        "print(c)"
      ],
      "execution_count": 43
    },
    {
      "cell_type": "markdown",
      "metadata": {
        "id": "4d19213c-bd0e-43a6-b9a5-9e8a41b9a0fb"
      },
      "source": [
        "<details><summary>Click here for the solution</summary>\n",
        "\n",
        "```python\n",
        "\"12\"\n",
        "\n",
        "```\n",
        "\n",
        "</details>\n"
      ]
    },
    {
      "cell_type": "markdown",
      "metadata": {
        "id": "e17dfbfa-668b-4725-a8a5-db0f94145fa3"
      },
      "source": [
        "<hr>\n"
      ]
    },
    {
      "cell_type": "markdown",
      "metadata": {
        "id": "439d998d-62e0-498f-ae8e-5d898f20b79a"
      },
      "source": [
        "Consider the variable <code>d</code> use slicing to print out the first three elements:\n"
      ]
    },
    {
      "cell_type": "code",
      "metadata": {
        "colab": {
          "base_uri": "https://localhost:8080/"
        },
        "id": "79bdde42-aca1-4d35-85b0-c22e88c472b5",
        "outputId": "1e0d041f-396f-4204-f5dc-7fe0087414cb"
      },
      "outputs": [
        {
          "output_type": "stream",
          "name": "stdout",
          "text": [
            "ABC\n"
          ]
        }
      ],
      "source": [
        "# Write your code below and press Shift+Enter to execute\n",
        "\n",
        "d = \"ABCDEFG\"\n",
        "# my code\n",
        "print(d[:3])"
      ],
      "execution_count": 46
    },
    {
      "cell_type": "markdown",
      "metadata": {
        "id": "5c4ffdb1-89a6-487c-bb05-ee25ecc1a18c"
      },
      "source": [
        "<details><summary>Click here for the solution</summary>\n",
        "\n",
        "```python\n",
        "print(d[:3])\n",
        "\n",
        "# or\n",
        "\n",
        "print(d[0:3])\n",
        "\n",
        "```\n",
        "\n",
        "</details>\n"
      ]
    },
    {
      "cell_type": "markdown",
      "metadata": {
        "id": "5afa8cf3-d549-47ef-8fca-16d10c3bb05b"
      },
      "source": [
        "<hr>\n"
      ]
    },
    {
      "cell_type": "markdown",
      "metadata": {
        "id": "1d031892-1c1e-4a61-890e-ff43146cd1c1"
      },
      "source": [
        "Use a stride value of 2 to print out every second character of the string <code>e</code>:\n"
      ]
    },
    {
      "cell_type": "code",
      "metadata": {
        "colab": {
          "base_uri": "https://localhost:8080/"
        },
        "id": "b2a60882-4b9c-4597-bda9-517a192741ab",
        "outputId": "9d20c433-e444-456f-8e0d-975e2b942c43"
      },
      "outputs": [
        {
          "output_type": "stream",
          "name": "stdout",
          "text": [
            "correct\n"
          ]
        }
      ],
      "source": [
        "# Write your code below and press Shift+Enter to execute\n",
        "\n",
        "e = 'clocrkr1e1c1t'\n",
        "\n",
        "print(e[::2])"
      ],
      "execution_count": 47
    },
    {
      "cell_type": "markdown",
      "metadata": {
        "id": "d41590a7-d151-438f-9213-b10e7b446617"
      },
      "source": [
        "<details><summary>Click here for the solution</summary>\n",
        "\n",
        "```python\n",
        "print(e[::2])\n",
        "\n",
        "```\n",
        "\n",
        "</details>\n"
      ]
    },
    {
      "cell_type": "markdown",
      "metadata": {
        "id": "e3f03f37-4653-495e-8964-03096ae1dc4e"
      },
      "source": [
        "<hr>\n"
      ]
    },
    {
      "cell_type": "markdown",
      "metadata": {
        "id": "b0a330c7-595c-464f-ade0-f5b958dc726c"
      },
      "source": [
        "Print out a backslash:\n"
      ]
    },
    {
      "cell_type": "code",
      "metadata": {
        "colab": {
          "base_uri": "https://localhost:8080/"
        },
        "id": "2babfd0f-e088-45e7-96fe-a5fce672f4fc",
        "outputId": "de35e3d2-2036-4643-a206-0de299402243"
      },
      "outputs": [
        {
          "output_type": "stream",
          "name": "stdout",
          "text": [
            "\\\\\n"
          ]
        }
      ],
      "source": [
        "# Write your code below and press Shift+Enter to execute\n",
        "print(\"\\\\\\\\\")"
      ],
      "execution_count": 48
    },
    {
      "cell_type": "markdown",
      "metadata": {
        "id": "48a8e95b-0e1a-4cce-b772-d15937b69e15"
      },
      "source": [
        "<details><summary>Click here for the solution</summary>\n",
        "\n",
        "```python\n",
        "print(\"\\\\\\\\\")\n",
        "\n",
        "or\n",
        "\n",
        "print(r\"\\ \")\n",
        "\n",
        "```\n",
        "\n",
        "</details>\n"
      ]
    },
    {
      "cell_type": "markdown",
      "metadata": {
        "id": "767f22be-46be-4bb8-93fe-a52c7c14f001"
      },
      "source": [
        "<hr>\n"
      ]
    },
    {
      "cell_type": "markdown",
      "metadata": {
        "id": "7d4f1bc2-2c77-4d78-9e49-05ba9f467479"
      },
      "source": [
        "Convert the variable <code>f</code> to uppercase:\n"
      ]
    },
    {
      "cell_type": "code",
      "metadata": {
        "colab": {
          "base_uri": "https://localhost:8080/",
          "height": 36
        },
        "id": "60cc6dc2-9f50-463a-b8d5-57dd701d6b56",
        "outputId": "85441a65-9cd4-49fd-ac20-757029f6fff9"
      },
      "outputs": [
        {
          "output_type": "execute_result",
          "data": {
            "text/plain": [
              "'YOU ARE WRONG'"
            ],
            "application/vnd.google.colaboratory.intrinsic+json": {
              "type": "string"
            }
          },
          "metadata": {},
          "execution_count": 50
        }
      ],
      "source": [
        "# Write your code below and press Shift+Enter to execute\n",
        "\n",
        "f = \"You are wrong\"\n",
        "\n",
        "# mycode\n",
        "f.upper()"
      ],
      "execution_count": 50
    },
    {
      "cell_type": "markdown",
      "metadata": {
        "id": "dea1d655-15cb-42b4-bfae-c597680afddc"
      },
      "source": [
        "<details><summary>Click here for the solution</summary>\n",
        "\n",
        "```python\n",
        "f.upper()\n",
        "\n",
        "```\n",
        "\n",
        "</details>\n"
      ]
    },
    {
      "cell_type": "markdown",
      "metadata": {
        "id": "23531252-0981-4bb5-b994-d2bd7381431e"
      },
      "source": [
        "Convert the variable <code>f2</code> to lowercase:\n"
      ]
    },
    {
      "cell_type": "code",
      "metadata": {
        "colab": {
          "base_uri": "https://localhost:8080/",
          "height": 36
        },
        "id": "e66e6872-c187-4cc0-8044-1470b1c95673",
        "outputId": "eb46da6c-1770-4910-9dd0-8c8209ceaac7"
      },
      "outputs": [
        {
          "output_type": "execute_result",
          "data": {
            "text/plain": [
              "'you are right'"
            ],
            "application/vnd.google.colaboratory.intrinsic+json": {
              "type": "string"
            }
          },
          "metadata": {},
          "execution_count": 52
        }
      ],
      "source": [
        "# Write your code below and press Shift+Enter to execute\n",
        "f2=\"YOU ARE RIGHT\"\n",
        "\n",
        "#mycode\n",
        "f2.lower()"
      ],
      "execution_count": 52
    },
    {
      "cell_type": "markdown",
      "metadata": {
        "id": "537b57be-88bf-4442-8891-6efc8c5c3b27"
      },
      "source": [
        "<details><summary>Click here for the solution</summary>\n",
        "\n",
        "```python\n",
        "f2.lower()\n",
        "\n",
        "```\n",
        "\n",
        "</details>\n"
      ]
    },
    {
      "cell_type": "markdown",
      "metadata": {
        "id": "5d6d1693-c101-498f-ac69-5b49d45e30e2"
      },
      "source": [
        "<hr>\n"
      ]
    },
    {
      "cell_type": "markdown",
      "metadata": {
        "id": "bc734688-4535-40b0-91ea-55090de47322"
      },
      "source": [
        "Consider the variable <code>g</code>, and find the first index of the sub-string <code>snow</code>:\n"
      ]
    },
    {
      "cell_type": "code",
      "metadata": {
        "colab": {
          "base_uri": "https://localhost:8080/"
        },
        "id": "eed35ccd-7e42-452f-90e4-c35c8b261a04",
        "outputId": "2d7b91b9-4a32-43e8-b94b-eaec6c478dc7"
      },
      "outputs": [
        {
          "output_type": "execute_result",
          "data": {
            "text/plain": [
              "95"
            ]
          },
          "metadata": {},
          "execution_count": 57
        }
      ],
      "source": [
        "# Write your code below and press Shift+Enter to execute\n",
        "\n",
        "g = \"Mary had a little lamb Little lamb, little lamb Mary had a little lamb \\\n",
        "Its fleece was white as snow And everywhere that Mary went Mary went, Mary went \\\n",
        "Everywhere that Mary went The lamb was sure to go\"\n",
        "\n",
        "g.find(\"snow\")"
      ],
      "execution_count": 57
    },
    {
      "cell_type": "markdown",
      "metadata": {
        "id": "efe94def-c86d-4667-9049-cdb62337e2e9"
      },
      "source": [
        "<details><summary>Click here for the solution</summary>\n",
        "\n",
        "```python\n",
        "g.find(\"snow\")\n",
        "\n",
        "```\n",
        "\n",
        "</details>\n"
      ]
    },
    {
      "cell_type": "markdown",
      "metadata": {
        "id": "24ad1a53-ab83-4450-aa1d-5ba16ce7bdbb"
      },
      "source": [
        "In the variable <code>g</code>, replace the sub-string <code>Mary</code> with <code>Bob</code>:\n"
      ]
    },
    {
      "cell_type": "code",
      "metadata": {
        "colab": {
          "base_uri": "https://localhost:8080/",
          "height": 54
        },
        "id": "14c8eed7-b790-4f41-b624-df17fd099972",
        "outputId": "ee7a2511-583f-4fbd-c78a-4f03e1a440c1"
      },
      "outputs": [
        {
          "output_type": "execute_result",
          "data": {
            "text/plain": [
              "'Bob had a little lamb Little lamb, little lamb Bob had a little lamb Its fleece was white as snow And everywhere that Bob went Bob went, Bob went Everywhere that Bob went The lamb was sure to go'"
            ],
            "application/vnd.google.colaboratory.intrinsic+json": {
              "type": "string"
            }
          },
          "metadata": {},
          "execution_count": 56
        }
      ],
      "source": [
        "# Write your code below and press Shift+Enter to execute\n",
        "g.replace(\"Mary\", \"Bob\")"
      ],
      "execution_count": 56
    },
    {
      "cell_type": "markdown",
      "metadata": {
        "id": "1b671bca-a900-4e81-99fd-925404f24e10"
      },
      "source": [
        "<details><summary>Click here for the solution</summary>\n",
        "\n",
        "```python\n",
        "g.replace(\"Mary\", \"Bob\")\n",
        "\n",
        "```\n",
        "\n",
        "</details>\n"
      ]
    },
    {
      "cell_type": "markdown",
      "metadata": {
        "id": "7e9e2531-f426-493c-8df9-d24a10e7e4e6"
      },
      "source": [
        "In the variable <code>g</code>, replace the sub-string <code>,</code> with <code>.</code>:\n"
      ]
    },
    {
      "cell_type": "code",
      "metadata": {
        "colab": {
          "base_uri": "https://localhost:8080/",
          "height": 54
        },
        "id": "99aa80a1-e5ba-4665-a869-e59d1f181839",
        "outputId": "f5e21c9d-009d-42d7-b8d5-bf980155c22f"
      },
      "outputs": [
        {
          "output_type": "execute_result",
          "data": {
            "text/plain": [
              "'Mary had a little lamb Little lamb. little lamb Mary had a little lamb Its fleece was white as snow And everywhere that Mary went Mary went. Mary went Everywhere that Mary went The lamb was sure to go'"
            ],
            "application/vnd.google.colaboratory.intrinsic+json": {
              "type": "string"
            }
          },
          "metadata": {},
          "execution_count": 58
        }
      ],
      "source": [
        "# Write your code below and press Shift+Enter to execute\n",
        "g.replace(',','.')"
      ],
      "execution_count": 58
    },
    {
      "cell_type": "markdown",
      "metadata": {
        "id": "c673f5fb-bd1d-4f6c-8fb6-2fdceda08f1b"
      },
      "source": [
        "<details><summary>Click here for the solution</summary>\n",
        "\n",
        "```python\n",
        "g.replace(',','.')\n",
        "\n",
        "```\n",
        "\n",
        "</details>\n"
      ]
    },
    {
      "cell_type": "markdown",
      "metadata": {
        "id": "00210de4-7b60-4f3c-91d7-95f1ad42f5d8"
      },
      "source": [
        "In the variable <code>g</code>, split the substring to list:\n"
      ]
    },
    {
      "cell_type": "code",
      "metadata": {
        "colab": {
          "base_uri": "https://localhost:8080/"
        },
        "id": "8cd1aa38-dc03-40b9-aeab-c91c56ba3f03",
        "outputId": "4dc3ecd3-6007-4ab4-b9e1-85858c449c9d"
      },
      "outputs": [
        {
          "output_type": "execute_result",
          "data": {
            "text/plain": [
              "['Mary',\n",
              " 'had',\n",
              " 'a',\n",
              " 'little',\n",
              " 'lamb',\n",
              " 'Little',\n",
              " 'lamb,',\n",
              " 'little',\n",
              " 'lamb',\n",
              " 'Mary',\n",
              " 'had',\n",
              " 'a',\n",
              " 'little',\n",
              " 'lamb',\n",
              " 'Its',\n",
              " 'fleece',\n",
              " 'was',\n",
              " 'white',\n",
              " 'as',\n",
              " 'snow',\n",
              " 'And',\n",
              " 'everywhere',\n",
              " 'that',\n",
              " 'Mary',\n",
              " 'went',\n",
              " 'Mary',\n",
              " 'went,',\n",
              " 'Mary',\n",
              " 'went',\n",
              " 'Everywhere',\n",
              " 'that',\n",
              " 'Mary',\n",
              " 'went',\n",
              " 'The',\n",
              " 'lamb',\n",
              " 'was',\n",
              " 'sure',\n",
              " 'to',\n",
              " 'go']"
            ]
          },
          "metadata": {},
          "execution_count": 59
        }
      ],
      "source": [
        "# Write your code below and press Shift+Enter to execute\n",
        "# my code\n",
        "g.split()"
      ],
      "execution_count": 59
    },
    {
      "cell_type": "markdown",
      "metadata": {
        "id": "f1ec3f04-9c75-4d40-b5ff-f89299a801ef"
      },
      "source": [
        "<details><summary>Click here for the solution</summary>\n",
        "\n",
        "```python\n",
        "g.split()\n",
        "\n",
        "```\n",
        "\n",
        "</details>\n"
      ]
    },
    {
      "cell_type": "markdown",
      "metadata": {
        "id": "ff73eda2-d97f-4af0-87f2-79577b91813a"
      },
      "source": [
        "In the string <code>s3</code>, find whether the digit is present or not using the <code>\\d</code> and <code>search() </code>function:\n"
      ]
    },
    {
      "cell_type": "code",
      "metadata": {
        "colab": {
          "base_uri": "https://localhost:8080/"
        },
        "id": "d0d36958-b3e8-43eb-bc70-bed5fcaf4a77",
        "outputId": "e5c4c9e4-98a8-415c-8b0d-b0a4f719b3ba"
      },
      "outputs": [
        {
          "output_type": "stream",
          "name": "stdout",
          "text": [
            "Digit found\n"
          ]
        }
      ],
      "source": [
        "s3 = \"House number- 1105\"\n",
        "# Write your code below and press Shift+Enter to execute\n",
        "# my code\n",
        "# Use the search() function to search for the \"\\d\" in the string\n",
        "result = re.search(\"\\d\", s3)\n",
        "\n",
        "# Check if a match was found\n",
        "if result:\n",
        "    print(\"Digit found\")\n",
        "else:\n",
        "    print(\"Digit not found.\")"
      ],
      "execution_count": 60
    },
    {
      "cell_type": "markdown",
      "metadata": {
        "id": "aea2cd25-58f1-4b8a-9d78-56c508e2d9a9"
      },
      "source": [
        "<details><summary>Click here for the solution</summary>\n",
        "\n",
        "```python\n",
        "# Use the search() function to search for the \"\\d\" in the string\n",
        "result = re.search(\"\\d\", s3)\n",
        "\n",
        "# Check if a match was found\n",
        "if result:\n",
        "    print(\"Digit found\")\n",
        "else:\n",
        "    print(\"Digit not found.\")\n",
        "```\n",
        "\n",
        "</details>\n"
      ]
    },
    {
      "cell_type": "markdown",
      "metadata": {
        "id": "736e27e7-977d-4a22-ab7a-9e1c67894e3f"
      },
      "source": [
        "In the string <code>str1</code>, replace the sub-string <code>fox</code> with <code>bear</code> using <code>sub() </code>function:\n"
      ]
    },
    {
      "cell_type": "code",
      "metadata": {
        "colab": {
          "base_uri": "https://localhost:8080/"
        },
        "id": "5af379e8-8f85-4cb8-8c57-c86b8beff91b",
        "outputId": "3bca75e3-8923-48b9-feb5-7b77776c920c"
      },
      "outputs": [
        {
          "output_type": "stream",
          "name": "stdout",
          "text": [
            "The quick brown bear jumps over the lazy dog.\n"
          ]
        }
      ],
      "source": [
        "str1= \"The quick brown fox jumps over the lazy dog.\"\n",
        "\n",
        "# Write your code below and press Shift+Enter to execute\n",
        "\n",
        "#my code\n",
        "# Use re.sub() to replace \"fox\" with \"bear\"\n",
        "new_str1 = re.sub(r\"fox\", \"bear\", str1)\n",
        "\n",
        "print(new_str1)\n"
      ],
      "execution_count": 61
    },
    {
      "cell_type": "markdown",
      "metadata": {
        "id": "f8ea48a7-512a-4ea5-b1a3-d05b32541441"
      },
      "source": [
        "<details><summary>Click here for the solution</summary>\n",
        "\n",
        "```python\n",
        "# Use re.sub() to replace \"fox\" with \"bear\"\n",
        "new_str1 = re.sub(r\"fox\", \"bear\", str1)\n",
        "\n",
        "print(new_str1)\n",
        "```\n",
        "\n",
        "</details>\n"
      ]
    },
    {
      "cell_type": "markdown",
      "metadata": {
        "id": "e88f7c82-7d24-4ece-9c11-b634ba4caef5"
      },
      "source": [
        "In the string <code>str2</code> find all the occurrences of <code>woo</code> using <code>findall()</code> function:\n"
      ]
    },
    {
      "cell_type": "code",
      "metadata": {
        "colab": {
          "base_uri": "https://localhost:8080/"
        },
        "id": "875c6501-bb75-464f-ab4a-552b5caff929",
        "outputId": "3f04f26a-08c5-4b84-a7e4-5837e826e861"
      },
      "outputs": [
        {
          "output_type": "stream",
          "name": "stdout",
          "text": [
            "['woo', 'woo', 'woo', 'woo']\n"
          ]
        }
      ],
      "source": [
        "str2= \"How much wood would a woodchuck chuck, if a woodchuck could chuck wood?\"\n",
        "\n",
        "# Write your code below and press Shift+Enter to execute\n",
        "\n",
        "#my code\n",
        "# Use re.findall() to find all occurrences of \"woo\"\n",
        "matches = re.findall(r\"woo\", str2)\n",
        "\n",
        "print(matches)\n"
      ],
      "execution_count": 62
    },
    {
      "cell_type": "markdown",
      "metadata": {
        "id": "021869c5-69ec-46bb-83a7-144f254eac66"
      },
      "source": [
        "<details><summary>Click here for the solution</summary>\n",
        "\n",
        "```python\n",
        "# Use re.findall() to find all occurrences of \"woo\"\n",
        "matches = re.findall(r\"woo\", str2)\n",
        "\n",
        "print(matches)\n",
        "```\n",
        "\n",
        "</details>\n"
      ]
    },
    {
      "cell_type": "markdown",
      "metadata": {
        "id": "d2dba33f-4f81-42cc-98b5-c912ff0525bc"
      },
      "source": [
        "<hr>\n",
        "<h2>The last exercise!</h2>\n",
        "<p>Congratulations, you have completed your first lesson and hands-on lab in Python.\n",
        "<hr>\n"
      ]
    },
    {
      "cell_type": "markdown",
      "metadata": {
        "id": "9f6a8b4a-e251-4995-bd08-a59dbe9d9c6a"
      },
      "source": [
        "## Author\n",
        "\n",
        "<a href=\"https://www.linkedin.com/in/joseph-s-50398b136/?utm_medium=Exinfluencer&utm_source=Exinfluencer&utm_content=000026UJ&utm_term=10006555&utm_id=NA-SkillsNetwork-Channel-SkillsNetworkCoursesIBMDeveloperSkillsNetworkPY0101ENSkillsNetwork19487395-2021-01-01\" target=\"_blank\">Joseph Santarcangelo</a>\n",
        "\n",
        "## Change Log\n",
        "\n",
        "| Date (YYYY-MM-DD) | Version | Changed By | Change Description                  |\n",
        "| ----------------- | ------- | ---------- | ----------------------------------- |\n",
        "| 2023-10-31        | 2.2     | Abhishek Gagneja | Updated instruction sets |\n",
        "| 2022-01-10        | 2.1     | Malika     | Removed the readme for GitShare     |\n",
        "| 2020-11-11        | 2.1     | Aije       | Updated variable names to lowercase |\n",
        "| 2020-08-26        | 2.0     | Lavanya    | Moved lab to course repo in GitLab  |\n",
        "\n",
        "## <h3 align=\"center\"> © IBM Corporation 2023. All rights reserved. <h3/>\n"
      ]
    }
  ],
  "metadata": {
    "language_info": {
      "codemirror_mode": {
        "name": "python",
        "version": 3
      },
      "file_extension": ".py",
      "mimetype": "text/x-python",
      "name": "python",
      "nbconvert_exporter": "python",
      "pygments_lexer": "ipython3",
      "version": "3.8"
    },
    "kernelspec": {
      "name": "python",
      "display_name": "Pyolite",
      "language": "python"
    },
    "colab": {
      "provenance": []
    }
  },
  "nbformat": 4,
  "nbformat_minor": 0
}